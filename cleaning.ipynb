{
 "cells": [
  {
   "cell_type": "code",
   "execution_count": 3,
   "id": "29b4e4e0",
   "metadata": {},
   "outputs": [],
   "source": [
    "import sqlite3\n",
    "import pandas as pd\n",
    "import random"
   ]
  },
  {
   "cell_type": "code",
   "execution_count": 2,
   "id": "7804785d",
   "metadata": {},
   "outputs": [
    {
     "name": "stdout",
     "output_type": "stream",
     "text": [
      "[('zipfiles',)]\n"
     ]
    }
   ],
   "source": [
    "# Read the code below and write your observation in the next cell\n",
    "\n",
    "conn = sqlite3.connect('eng_subtitles_database.db')\n",
    "cursor = conn.cursor()\n",
    "cursor.execute(\"SELECT name FROM sqlite_master WHERE type='table'\")\n",
    "print(cursor.fetchall())"
   ]
  },
  {
   "cell_type": "code",
   "execution_count": 3,
   "id": "a4349bf6",
   "metadata": {},
   "outputs": [
    {
     "name": "stdout",
     "output_type": "stream",
     "text": [
      "num\n",
      "name\n",
      "content\n"
     ]
    }
   ],
   "source": [
    "cursor.execute(\"PRAGMA table_info('zipfiles')\")\n",
    "cols = cursor.fetchall()\n",
    "for col in cols:\n",
    "    print(col[1])"
   ]
  },
  {
   "cell_type": "code",
   "execution_count": 4,
   "id": "2f4d381b",
   "metadata": {},
   "outputs": [
    {
     "data": {
      "text/html": [
       "<div>\n",
       "<style scoped>\n",
       "    .dataframe tbody tr th:only-of-type {\n",
       "        vertical-align: middle;\n",
       "    }\n",
       "\n",
       "    .dataframe tbody tr th {\n",
       "        vertical-align: top;\n",
       "    }\n",
       "\n",
       "    .dataframe thead th {\n",
       "        text-align: right;\n",
       "    }\n",
       "</style>\n",
       "<table border=\"1\" class=\"dataframe\">\n",
       "  <thead>\n",
       "    <tr style=\"text-align: right;\">\n",
       "      <th></th>\n",
       "      <th>num</th>\n",
       "      <th>name</th>\n",
       "      <th>content</th>\n",
       "    </tr>\n",
       "  </thead>\n",
       "  <tbody>\n",
       "    <tr>\n",
       "      <th>0</th>\n",
       "      <td>9180533</td>\n",
       "      <td>the.message.(1976).eng.1cd</td>\n",
       "      <td>b'PK\\x03\\x04\\x14\\x00\\x00\\x00\\x08\\x00\\x1c\\xa9\\x...</td>\n",
       "    </tr>\n",
       "    <tr>\n",
       "      <th>1</th>\n",
       "      <td>9180583</td>\n",
       "      <td>here.comes.the.grump.s01.e09.joltin.jack.in.bo...</td>\n",
       "      <td>b'PK\\x03\\x04\\x14\\x00\\x00\\x00\\x08\\x00\\x17\\xb9\\x...</td>\n",
       "    </tr>\n",
       "    <tr>\n",
       "      <th>2</th>\n",
       "      <td>9180592</td>\n",
       "      <td>yumis.cells.s02.e13.episode.2.13.(2022).eng.1cd</td>\n",
       "      <td>b'PK\\x03\\x04\\x14\\x00\\x00\\x00\\x08\\x00L\\xb9\\x99V...</td>\n",
       "    </tr>\n",
       "    <tr>\n",
       "      <th>3</th>\n",
       "      <td>9180594</td>\n",
       "      <td>yumis.cells.s02.e14.episode.2.14.(2022).eng.1cd</td>\n",
       "      <td>b'PK\\x03\\x04\\x14\\x00\\x00\\x00\\x08\\x00U\\xa9\\x99V...</td>\n",
       "    </tr>\n",
       "    <tr>\n",
       "      <th>4</th>\n",
       "      <td>9180600</td>\n",
       "      <td>broker.(2022).eng.1cd</td>\n",
       "      <td>b'PK\\x03\\x04\\x14\\x00\\x00\\x00\\x08\\x001\\xa9\\x99V...</td>\n",
       "    </tr>\n",
       "  </tbody>\n",
       "</table>\n",
       "</div>"
      ],
      "text/plain": [
       "       num                                               name  \\\n",
       "0  9180533                         the.message.(1976).eng.1cd   \n",
       "1  9180583  here.comes.the.grump.s01.e09.joltin.jack.in.bo...   \n",
       "2  9180592    yumis.cells.s02.e13.episode.2.13.(2022).eng.1cd   \n",
       "3  9180594    yumis.cells.s02.e14.episode.2.14.(2022).eng.1cd   \n",
       "4  9180600                              broker.(2022).eng.1cd   \n",
       "\n",
       "                                             content  \n",
       "0  b'PK\\x03\\x04\\x14\\x00\\x00\\x00\\x08\\x00\\x1c\\xa9\\x...  \n",
       "1  b'PK\\x03\\x04\\x14\\x00\\x00\\x00\\x08\\x00\\x17\\xb9\\x...  \n",
       "2  b'PK\\x03\\x04\\x14\\x00\\x00\\x00\\x08\\x00L\\xb9\\x99V...  \n",
       "3  b'PK\\x03\\x04\\x14\\x00\\x00\\x00\\x08\\x00U\\xa9\\x99V...  \n",
       "4  b'PK\\x03\\x04\\x14\\x00\\x00\\x00\\x08\\x001\\xa9\\x99V...  "
      ]
     },
     "execution_count": 4,
     "metadata": {},
     "output_type": "execute_result"
    }
   ],
   "source": [
    "df = pd.read_sql_query(\"\"\"SELECT * FROM zipfiles\"\"\", conn)\n",
    "df.head()"
   ]
  },
  {
   "cell_type": "code",
   "execution_count": 5,
   "id": "72e62e80",
   "metadata": {},
   "outputs": [],
   "source": [
    "import zipfile\n",
    "import io\n",
    "\n",
    "count = 0\n",
    "\n",
    "def decode_method(binary_data):\n",
    "    global count\n",
    "    # Decompress the binary data using the zipfile module\n",
    "    # print(count, end=\" \")\n",
    "    count += 1\n",
    "    with io.BytesIO(binary_data) as f:\n",
    "        with zipfile.ZipFile(f, 'r') as zip_file:\n",
    "            # Assuming there's only one file in the ZIP archive\n",
    "            subtitle_content = zip_file.read(zip_file.namelist()[0])\n",
    "    \n",
    "    # Now 'subtitle_content' should contain the extracted subtitle content\n",
    "    return subtitle_content.decode('latin-1')  # Assuming the content is UTF-8 encoded text"
   ]
  },
  {
   "cell_type": "code",
   "execution_count": 6,
   "id": "35c93dbb",
   "metadata": {},
   "outputs": [
    {
     "data": {
      "text/html": [
       "<div>\n",
       "<style scoped>\n",
       "    .dataframe tbody tr th:only-of-type {\n",
       "        vertical-align: middle;\n",
       "    }\n",
       "\n",
       "    .dataframe tbody tr th {\n",
       "        vertical-align: top;\n",
       "    }\n",
       "\n",
       "    .dataframe thead th {\n",
       "        text-align: right;\n",
       "    }\n",
       "</style>\n",
       "<table border=\"1\" class=\"dataframe\">\n",
       "  <thead>\n",
       "    <tr style=\"text-align: right;\">\n",
       "      <th></th>\n",
       "      <th>num</th>\n",
       "      <th>name</th>\n",
       "      <th>content</th>\n",
       "      <th>file_content</th>\n",
       "    </tr>\n",
       "  </thead>\n",
       "  <tbody>\n",
       "    <tr>\n",
       "      <th>0</th>\n",
       "      <td>9180533</td>\n",
       "      <td>the.message.(1976).eng.1cd</td>\n",
       "      <td>b'PK\\x03\\x04\\x14\\x00\\x00\\x00\\x08\\x00\\x1c\\xa9\\x...</td>\n",
       "      <td>1\\r\\n00:00:06,000 --&gt; 00:00:12,074\\r\\nWatch an...</td>\n",
       "    </tr>\n",
       "    <tr>\n",
       "      <th>1</th>\n",
       "      <td>9180583</td>\n",
       "      <td>here.comes.the.grump.s01.e09.joltin.jack.in.bo...</td>\n",
       "      <td>b'PK\\x03\\x04\\x14\\x00\\x00\\x00\\x08\\x00\\x17\\xb9\\x...</td>\n",
       "      <td>1\\r\\n00:00:29,359 --&gt; 00:00:32,048\\r\\nAh! Ther...</td>\n",
       "    </tr>\n",
       "    <tr>\n",
       "      <th>2</th>\n",
       "      <td>9180592</td>\n",
       "      <td>yumis.cells.s02.e13.episode.2.13.(2022).eng.1cd</td>\n",
       "      <td>b'PK\\x03\\x04\\x14\\x00\\x00\\x00\\x08\\x00L\\xb9\\x99V...</td>\n",
       "      <td>1\\r\\n00:00:53,200 --&gt; 00:00:56,030\\r\\n&lt;i&gt;Yumi'...</td>\n",
       "    </tr>\n",
       "    <tr>\n",
       "      <th>3</th>\n",
       "      <td>9180594</td>\n",
       "      <td>yumis.cells.s02.e14.episode.2.14.(2022).eng.1cd</td>\n",
       "      <td>b'PK\\x03\\x04\\x14\\x00\\x00\\x00\\x08\\x00U\\xa9\\x99V...</td>\n",
       "      <td>1\\r\\n00:00:06,000 --&gt; 00:00:12,074\\r\\nWatch an...</td>\n",
       "    </tr>\n",
       "    <tr>\n",
       "      <th>4</th>\n",
       "      <td>9180600</td>\n",
       "      <td>broker.(2022).eng.1cd</td>\n",
       "      <td>b'PK\\x03\\x04\\x14\\x00\\x00\\x00\\x08\\x001\\xa9\\x99V...</td>\n",
       "      <td>ï»¿1\\r\\n00:00:06,000 --&gt; 00:00:12,074\\r\\nWatch...</td>\n",
       "    </tr>\n",
       "  </tbody>\n",
       "</table>\n",
       "</div>"
      ],
      "text/plain": [
       "       num                                               name  \\\n",
       "0  9180533                         the.message.(1976).eng.1cd   \n",
       "1  9180583  here.comes.the.grump.s01.e09.joltin.jack.in.bo...   \n",
       "2  9180592    yumis.cells.s02.e13.episode.2.13.(2022).eng.1cd   \n",
       "3  9180594    yumis.cells.s02.e14.episode.2.14.(2022).eng.1cd   \n",
       "4  9180600                              broker.(2022).eng.1cd   \n",
       "\n",
       "                                             content  \\\n",
       "0  b'PK\\x03\\x04\\x14\\x00\\x00\\x00\\x08\\x00\\x1c\\xa9\\x...   \n",
       "1  b'PK\\x03\\x04\\x14\\x00\\x00\\x00\\x08\\x00\\x17\\xb9\\x...   \n",
       "2  b'PK\\x03\\x04\\x14\\x00\\x00\\x00\\x08\\x00L\\xb9\\x99V...   \n",
       "3  b'PK\\x03\\x04\\x14\\x00\\x00\\x00\\x08\\x00U\\xa9\\x99V...   \n",
       "4  b'PK\\x03\\x04\\x14\\x00\\x00\\x00\\x08\\x001\\xa9\\x99V...   \n",
       "\n",
       "                                        file_content  \n",
       "0  1\\r\\n00:00:06,000 --> 00:00:12,074\\r\\nWatch an...  \n",
       "1  1\\r\\n00:00:29,359 --> 00:00:32,048\\r\\nAh! Ther...  \n",
       "2  1\\r\\n00:00:53,200 --> 00:00:56,030\\r\\n<i>Yumi'...  \n",
       "3  1\\r\\n00:00:06,000 --> 00:00:12,074\\r\\nWatch an...  \n",
       "4  ï»¿1\\r\\n00:00:06,000 --> 00:00:12,074\\r\\nWatch...  "
      ]
     },
     "execution_count": 6,
     "metadata": {},
     "output_type": "execute_result"
    }
   ],
   "source": [
    "df['file_content'] = df['content'].apply(decode_method)\n",
    "\n",
    "df.head()"
   ]
  },
  {
   "cell_type": "code",
   "execution_count": 7,
   "id": "a6b8bb59",
   "metadata": {},
   "outputs": [],
   "source": [
    "sample_df = df.sample(frac=0.3)"
   ]
  },
  {
   "cell_type": "code",
   "execution_count": 8,
   "id": "14f4e235",
   "metadata": {},
   "outputs": [
    {
     "data": {
      "text/html": [
       "<div>\n",
       "<style scoped>\n",
       "    .dataframe tbody tr th:only-of-type {\n",
       "        vertical-align: middle;\n",
       "    }\n",
       "\n",
       "    .dataframe tbody tr th {\n",
       "        vertical-align: top;\n",
       "    }\n",
       "\n",
       "    .dataframe thead th {\n",
       "        text-align: right;\n",
       "    }\n",
       "</style>\n",
       "<table border=\"1\" class=\"dataframe\">\n",
       "  <thead>\n",
       "    <tr style=\"text-align: right;\">\n",
       "      <th></th>\n",
       "      <th>num</th>\n",
       "      <th>name</th>\n",
       "      <th>content</th>\n",
       "      <th>file_content</th>\n",
       "    </tr>\n",
       "  </thead>\n",
       "  <tbody>\n",
       "    <tr>\n",
       "      <th>11228</th>\n",
       "      <td>9227901</td>\n",
       "      <td>american.experience.s03.e03.richard.nixon.part...</td>\n",
       "      <td>b'PK\\x03\\x04\\x14\\x00\\x00\\x00\\x08\\x00\\xc8\\x94\\x...</td>\n",
       "      <td>ï»¿1\\r\\n00:00:06,000 --&gt; 00:00:12,074\\r\\nSuppo...</td>\n",
       "    </tr>\n",
       "    <tr>\n",
       "      <th>32159</th>\n",
       "      <td>9308935</td>\n",
       "      <td>midsomer.murders.s05.e01.market.for.murder.(20...</td>\n",
       "      <td>b'PK\\x03\\x04\\x14\\x00\\x00\\x00\\x08\\x00:\\xad\\x99V...</td>\n",
       "      <td>ï»¿1\\r\\n00:00:06,000 --&gt; 00:00:12,074\\r\\nUse t...</td>\n",
       "    </tr>\n",
       "    <tr>\n",
       "      <th>76465</th>\n",
       "      <td>9496310</td>\n",
       "      <td>meloholic.s01.e03.episode.1.3.(2017).eng.1cd</td>\n",
       "      <td>b'PK\\x03\\x04\\x14\\x00\\x00\\x00\\x08\\x00\\xafz\\x9aV...</td>\n",
       "      <td>ï»¿1\\r\\n00:00:06,000 --&gt; 00:00:12,074\\r\\nSuppo...</td>\n",
       "    </tr>\n",
       "    <tr>\n",
       "      <th>64109</th>\n",
       "      <td>9446652</td>\n",
       "      <td>walker.independence.s01.e11.the.pittsburgh.win...</td>\n",
       "      <td>b'PK\\x03\\x04\\x14\\x00\\x00\\x00\\x08\\x00\\xeeV\\x9aV...</td>\n",
       "      <td>ï»¿1\\r\\n00:00:11,645 --&gt; 00:00:13,947\\r\\n(bird...</td>\n",
       "    </tr>\n",
       "    <tr>\n",
       "      <th>27193</th>\n",
       "      <td>9290119</td>\n",
       "      <td>the.leech.(2022).eng.1cd</td>\n",
       "      <td>b'PK\\x03\\x04\\x14\\x00\\x00\\x00\\x08\\x00\\x85\\xa4\\x...</td>\n",
       "      <td>ï»¿1\\r\\n00:00:06,000 --&gt; 00:00:12,074\\r\\nSuppo...</td>\n",
       "    </tr>\n",
       "  </tbody>\n",
       "</table>\n",
       "</div>"
      ],
      "text/plain": [
       "           num                                               name  \\\n",
       "11228  9227901  american.experience.s03.e03.richard.nixon.part...   \n",
       "32159  9308935  midsomer.murders.s05.e01.market.for.murder.(20...   \n",
       "76465  9496310       meloholic.s01.e03.episode.1.3.(2017).eng.1cd   \n",
       "64109  9446652  walker.independence.s01.e11.the.pittsburgh.win...   \n",
       "27193  9290119                           the.leech.(2022).eng.1cd   \n",
       "\n",
       "                                                 content  \\\n",
       "11228  b'PK\\x03\\x04\\x14\\x00\\x00\\x00\\x08\\x00\\xc8\\x94\\x...   \n",
       "32159  b'PK\\x03\\x04\\x14\\x00\\x00\\x00\\x08\\x00:\\xad\\x99V...   \n",
       "76465  b'PK\\x03\\x04\\x14\\x00\\x00\\x00\\x08\\x00\\xafz\\x9aV...   \n",
       "64109  b'PK\\x03\\x04\\x14\\x00\\x00\\x00\\x08\\x00\\xeeV\\x9aV...   \n",
       "27193  b'PK\\x03\\x04\\x14\\x00\\x00\\x00\\x08\\x00\\x85\\xa4\\x...   \n",
       "\n",
       "                                            file_content  \n",
       "11228  ï»¿1\\r\\n00:00:06,000 --> 00:00:12,074\\r\\nSuppo...  \n",
       "32159  ï»¿1\\r\\n00:00:06,000 --> 00:00:12,074\\r\\nUse t...  \n",
       "76465  ï»¿1\\r\\n00:00:06,000 --> 00:00:12,074\\r\\nSuppo...  \n",
       "64109  ï»¿1\\r\\n00:00:11,645 --> 00:00:13,947\\r\\n(bird...  \n",
       "27193  ï»¿1\\r\\n00:00:06,000 --> 00:00:12,074\\r\\nSuppo...  "
      ]
     },
     "execution_count": 8,
     "metadata": {},
     "output_type": "execute_result"
    }
   ],
   "source": [
    "sample_df.head()"
   ]
  },
  {
   "cell_type": "code",
   "execution_count": 9,
   "id": "0ddad55a",
   "metadata": {},
   "outputs": [],
   "source": [
    "sample_df.to_csv(\"sample.csv\", index=False)"
   ]
  },
  {
   "cell_type": "code",
   "execution_count": 4,
   "id": "2c6212ee",
   "metadata": {},
   "outputs": [],
   "source": [
    "df = pd.read_csv(\"sample.csv\")"
   ]
  },
  {
   "cell_type": "code",
   "execution_count": 8,
   "id": "14baf728",
   "metadata": {},
   "outputs": [
    {
     "name": "stderr",
     "output_type": "stream",
     "text": [
      "[nltk_data] Downloading package stopwords to\n",
      "[nltk_data]     C:\\Users\\Admin\\AppData\\Roaming\\nltk_data...\n",
      "[nltk_data]   Package stopwords is already up-to-date!\n",
      "[nltk_data] Downloading package punkt to\n",
      "[nltk_data]     C:\\Users\\Admin\\AppData\\Roaming\\nltk_data...\n",
      "[nltk_data]   Package punkt is already up-to-date!\n",
      "[nltk_data] Downloading package wordnet to\n",
      "[nltk_data]     C:\\Users\\Admin\\AppData\\Roaming\\nltk_data...\n",
      "[nltk_data]   Package wordnet is already up-to-date!\n"
     ]
    },
    {
     "data": {
      "text/plain": [
       "True"
      ]
     },
     "execution_count": 8,
     "metadata": {},
     "output_type": "execute_result"
    }
   ],
   "source": [
    "import string\n",
    "import re\n",
    "import nltk\n",
    "from nltk.corpus import stopwords\n",
    "from nltk.tokenize import word_tokenize\n",
    "from nltk.stem import WordNetLemmatizer\n",
    "\n",
    "import nltk\n",
    "nltk.download('stopwords')\n",
    "nltk.download('punkt')\n",
    "nltk.download('wordnet')"
   ]
  },
  {
   "cell_type": "code",
   "execution_count": 9,
   "id": "815e63b7",
   "metadata": {},
   "outputs": [],
   "source": [
    "def clean_files(subtitle):\n",
    "    # Remove timestamps\n",
    "    clean_content = re.sub(r'\\d{2}:\\d{2}:\\d{2},\\d{3} --> \\d{2}:\\d{2}:\\d{2},\\d{3}\\n?', '', subtitle)\n",
    "\n",
    "    # Remove other non-textual patterns\n",
    "    clean_content = re.sub(r'<[^>]+>', '', clean_content)\n",
    "\n",
    "    clean_content = re.sub(r\"[^\\w\\s]\", '', clean_content)\n",
    "\n",
    "    clean_content = re.sub(r\"[^\\x00-\\x7F]+\", '', clean_content)\n",
    "\n",
    "    clean_content = re.sub(r\"\\b\\d+\\s\", '', clean_content)\n",
    "    \n",
    "    clean_content = re.sub(r'[Dd]r\\.', '', clean_content)\n",
    "    \n",
    "    clean_content = re.sub(r'[A-Z][a-z]+:', '', clean_content)\n",
    "\n",
    "    clean_content = clean_content.lower()\n",
    "\n",
    "    tokens = word_tokenize(clean_content)\n",
    "\n",
    "    stop_words = set(stopwords.words('english'))\n",
    "\n",
    "    lemmatizer = WordNetLemmatizer()\n",
    "    \n",
    "    clean_tokens = [lemmatizer.lemmatize(word) for word in tokens if word.lower() not in stop_words]\n",
    "\n",
    "    clean_content = ' '.join(clean_tokens)\n",
    "\n",
    "    return clean_content.strip()\n",
    "\n",
    "df['clean_content'] = df['file_content'].apply(clean_files)"
   ]
  },
  {
   "cell_type": "code",
   "execution_count": 10,
   "id": "fac029db",
   "metadata": {},
   "outputs": [
    {
     "data": {
      "text/html": [
       "<div>\n",
       "<style scoped>\n",
       "    .dataframe tbody tr th:only-of-type {\n",
       "        vertical-align: middle;\n",
       "    }\n",
       "\n",
       "    .dataframe tbody tr th {\n",
       "        vertical-align: top;\n",
       "    }\n",
       "\n",
       "    .dataframe thead th {\n",
       "        text-align: right;\n",
       "    }\n",
       "</style>\n",
       "<table border=\"1\" class=\"dataframe\">\n",
       "  <thead>\n",
       "    <tr style=\"text-align: right;\">\n",
       "      <th></th>\n",
       "      <th>num</th>\n",
       "      <th>name</th>\n",
       "      <th>content</th>\n",
       "      <th>file_content</th>\n",
       "      <th>clean_content</th>\n",
       "    </tr>\n",
       "  </thead>\n",
       "  <tbody>\n",
       "    <tr>\n",
       "      <th>0</th>\n",
       "      <td>9227901</td>\n",
       "      <td>american.experience.s03.e03.richard.nixon.part...</td>\n",
       "      <td>b'PK\\x03\\x04\\x14\\x00\\x00\\x00\\x08\\x00\\xc8\\x94\\x...</td>\n",
       "      <td>ï»¿1\\r\\n00:00:06,000 --&gt; 00:00:12,074\\r\\nSuppo...</td>\n",
       "      <td>support u become vip member remove ad wwwopens...</td>\n",
       "    </tr>\n",
       "    <tr>\n",
       "      <th>1</th>\n",
       "      <td>9308935</td>\n",
       "      <td>midsomer.murders.s05.e01.market.for.murder.(20...</td>\n",
       "      <td>b'PK\\x03\\x04\\x14\\x00\\x00\\x00\\x08\\x00:\\xad\\x99V...</td>\n",
       "      <td>ï»¿1\\r\\n00:00:06,000 --&gt; 00:00:12,074\\r\\nUse t...</td>\n",
       "      <td>use free code joinnow wwwplayshipseu televisio...</td>\n",
       "    </tr>\n",
       "    <tr>\n",
       "      <th>2</th>\n",
       "      <td>9496310</td>\n",
       "      <td>meloholic.s01.e03.episode.1.3.(2017).eng.1cd</td>\n",
       "      <td>b'PK\\x03\\x04\\x14\\x00\\x00\\x00\\x08\\x00\\xafz\\x9aV...</td>\n",
       "      <td>ï»¿1\\r\\n00:00:06,000 --&gt; 00:00:12,074\\r\\nSuppo...</td>\n",
       "      <td>support u become vip member remove ad wwwopens...</td>\n",
       "    </tr>\n",
       "    <tr>\n",
       "      <th>3</th>\n",
       "      <td>9446652</td>\n",
       "      <td>walker.independence.s01.e11.the.pittsburgh.win...</td>\n",
       "      <td>b'PK\\x03\\x04\\x14\\x00\\x00\\x00\\x08\\x00\\xeeV\\x9aV...</td>\n",
       "      <td>ï»¿1\\r\\n00:00:11,645 --&gt; 00:00:13,947\\r\\n(bird...</td>\n",
       "      <td>bird singing exhaling soft moaning scoff softl...</td>\n",
       "    </tr>\n",
       "    <tr>\n",
       "      <th>4</th>\n",
       "      <td>9290119</td>\n",
       "      <td>the.leech.(2022).eng.1cd</td>\n",
       "      <td>b'PK\\x03\\x04\\x14\\x00\\x00\\x00\\x08\\x00\\x85\\xa4\\x...</td>\n",
       "      <td>ï»¿1\\r\\n00:00:06,000 --&gt; 00:00:12,074\\r\\nSuppo...</td>\n",
       "      <td>support u become vip member remove ad wwwopens...</td>\n",
       "    </tr>\n",
       "  </tbody>\n",
       "</table>\n",
       "</div>"
      ],
      "text/plain": [
       "       num                                               name  \\\n",
       "0  9227901  american.experience.s03.e03.richard.nixon.part...   \n",
       "1  9308935  midsomer.murders.s05.e01.market.for.murder.(20...   \n",
       "2  9496310       meloholic.s01.e03.episode.1.3.(2017).eng.1cd   \n",
       "3  9446652  walker.independence.s01.e11.the.pittsburgh.win...   \n",
       "4  9290119                           the.leech.(2022).eng.1cd   \n",
       "\n",
       "                                             content  \\\n",
       "0  b'PK\\x03\\x04\\x14\\x00\\x00\\x00\\x08\\x00\\xc8\\x94\\x...   \n",
       "1  b'PK\\x03\\x04\\x14\\x00\\x00\\x00\\x08\\x00:\\xad\\x99V...   \n",
       "2  b'PK\\x03\\x04\\x14\\x00\\x00\\x00\\x08\\x00\\xafz\\x9aV...   \n",
       "3  b'PK\\x03\\x04\\x14\\x00\\x00\\x00\\x08\\x00\\xeeV\\x9aV...   \n",
       "4  b'PK\\x03\\x04\\x14\\x00\\x00\\x00\\x08\\x00\\x85\\xa4\\x...   \n",
       "\n",
       "                                        file_content  \\\n",
       "0  ï»¿1\\r\\n00:00:06,000 --> 00:00:12,074\\r\\nSuppo...   \n",
       "1  ï»¿1\\r\\n00:00:06,000 --> 00:00:12,074\\r\\nUse t...   \n",
       "2  ï»¿1\\r\\n00:00:06,000 --> 00:00:12,074\\r\\nSuppo...   \n",
       "3  ï»¿1\\r\\n00:00:11,645 --> 00:00:13,947\\r\\n(bird...   \n",
       "4  ï»¿1\\r\\n00:00:06,000 --> 00:00:12,074\\r\\nSuppo...   \n",
       "\n",
       "                                       clean_content  \n",
       "0  support u become vip member remove ad wwwopens...  \n",
       "1  use free code joinnow wwwplayshipseu televisio...  \n",
       "2  support u become vip member remove ad wwwopens...  \n",
       "3  bird singing exhaling soft moaning scoff softl...  \n",
       "4  support u become vip member remove ad wwwopens...  "
      ]
     },
     "execution_count": 10,
     "metadata": {},
     "output_type": "execute_result"
    }
   ],
   "source": [
    "df.head()"
   ]
  },
  {
   "cell_type": "code",
   "execution_count": 11,
   "id": "14c92a67",
   "metadata": {},
   "outputs": [
    {
     "data": {
      "text/plain": [
       "(24749, 5)"
      ]
     },
     "execution_count": 11,
     "metadata": {},
     "output_type": "execute_result"
    }
   ],
   "source": [
    "df.shape"
   ]
  },
  {
   "cell_type": "code",
   "execution_count": 18,
   "id": "e2bd6565",
   "metadata": {},
   "outputs": [],
   "source": [
    "df.to_csv(\"cleaned_content.csv\", index=False)"
   ]
  },
  {
   "cell_type": "code",
   "execution_count": 19,
   "id": "c94b3dde",
   "metadata": {},
   "outputs": [],
   "source": [
    "df = pd.read_csv('cleaned_content.csv')"
   ]
  },
  {
   "cell_type": "code",
   "execution_count": 20,
   "id": "19318935",
   "metadata": {},
   "outputs": [
    {
     "data": {
      "text/html": [
       "<div>\n",
       "<style scoped>\n",
       "    .dataframe tbody tr th:only-of-type {\n",
       "        vertical-align: middle;\n",
       "    }\n",
       "\n",
       "    .dataframe tbody tr th {\n",
       "        vertical-align: top;\n",
       "    }\n",
       "\n",
       "    .dataframe thead th {\n",
       "        text-align: right;\n",
       "    }\n",
       "</style>\n",
       "<table border=\"1\" class=\"dataframe\">\n",
       "  <thead>\n",
       "    <tr style=\"text-align: right;\">\n",
       "      <th></th>\n",
       "      <th>num</th>\n",
       "      <th>name</th>\n",
       "      <th>content</th>\n",
       "      <th>file_content</th>\n",
       "      <th>clean_content</th>\n",
       "    </tr>\n",
       "  </thead>\n",
       "  <tbody>\n",
       "    <tr>\n",
       "      <th>0</th>\n",
       "      <td>9227901</td>\n",
       "      <td>american.experience.s03.e03.richard.nixon.part...</td>\n",
       "      <td>b'PK\\x03\\x04\\x14\\x00\\x00\\x00\\x08\\x00\\xc8\\x94\\x...</td>\n",
       "      <td>ï»¿1\\r\\n00:00:06,000 --&gt; 00:00:12,074\\r\\nSuppo...</td>\n",
       "      <td>support u become vip member remove ad wwwopens...</td>\n",
       "    </tr>\n",
       "    <tr>\n",
       "      <th>1</th>\n",
       "      <td>9308935</td>\n",
       "      <td>midsomer.murders.s05.e01.market.for.murder.(20...</td>\n",
       "      <td>b'PK\\x03\\x04\\x14\\x00\\x00\\x00\\x08\\x00:\\xad\\x99V...</td>\n",
       "      <td>ï»¿1\\r\\n00:00:06,000 --&gt; 00:00:12,074\\r\\nUse t...</td>\n",
       "      <td>use free code joinnow wwwplayshipseu televisio...</td>\n",
       "    </tr>\n",
       "    <tr>\n",
       "      <th>2</th>\n",
       "      <td>9496310</td>\n",
       "      <td>meloholic.s01.e03.episode.1.3.(2017).eng.1cd</td>\n",
       "      <td>b'PK\\x03\\x04\\x14\\x00\\x00\\x00\\x08\\x00\\xafz\\x9aV...</td>\n",
       "      <td>ï»¿1\\r\\n00:00:06,000 --&gt; 00:00:12,074\\r\\nSuppo...</td>\n",
       "      <td>support u become vip member remove ad wwwopens...</td>\n",
       "    </tr>\n",
       "    <tr>\n",
       "      <th>3</th>\n",
       "      <td>9446652</td>\n",
       "      <td>walker.independence.s01.e11.the.pittsburgh.win...</td>\n",
       "      <td>b'PK\\x03\\x04\\x14\\x00\\x00\\x00\\x08\\x00\\xeeV\\x9aV...</td>\n",
       "      <td>ï»¿1\\r\\n00:00:11,645 --&gt; 00:00:13,947\\r\\n(bird...</td>\n",
       "      <td>bird singing exhaling soft moaning scoff softl...</td>\n",
       "    </tr>\n",
       "    <tr>\n",
       "      <th>4</th>\n",
       "      <td>9290119</td>\n",
       "      <td>the.leech.(2022).eng.1cd</td>\n",
       "      <td>b'PK\\x03\\x04\\x14\\x00\\x00\\x00\\x08\\x00\\x85\\xa4\\x...</td>\n",
       "      <td>ï»¿1\\r\\n00:00:06,000 --&gt; 00:00:12,074\\r\\nSuppo...</td>\n",
       "      <td>support u become vip member remove ad wwwopens...</td>\n",
       "    </tr>\n",
       "  </tbody>\n",
       "</table>\n",
       "</div>"
      ],
      "text/plain": [
       "       num                                               name  \\\n",
       "0  9227901  american.experience.s03.e03.richard.nixon.part...   \n",
       "1  9308935  midsomer.murders.s05.e01.market.for.murder.(20...   \n",
       "2  9496310       meloholic.s01.e03.episode.1.3.(2017).eng.1cd   \n",
       "3  9446652  walker.independence.s01.e11.the.pittsburgh.win...   \n",
       "4  9290119                           the.leech.(2022).eng.1cd   \n",
       "\n",
       "                                             content  \\\n",
       "0  b'PK\\x03\\x04\\x14\\x00\\x00\\x00\\x08\\x00\\xc8\\x94\\x...   \n",
       "1  b'PK\\x03\\x04\\x14\\x00\\x00\\x00\\x08\\x00:\\xad\\x99V...   \n",
       "2  b'PK\\x03\\x04\\x14\\x00\\x00\\x00\\x08\\x00\\xafz\\x9aV...   \n",
       "3  b'PK\\x03\\x04\\x14\\x00\\x00\\x00\\x08\\x00\\xeeV\\x9aV...   \n",
       "4  b'PK\\x03\\x04\\x14\\x00\\x00\\x00\\x08\\x00\\x85\\xa4\\x...   \n",
       "\n",
       "                                        file_content  \\\n",
       "0  ï»¿1\\r\\n00:00:06,000 --> 00:00:12,074\\r\\nSuppo...   \n",
       "1  ï»¿1\\r\\n00:00:06,000 --> 00:00:12,074\\r\\nUse t...   \n",
       "2  ï»¿1\\r\\n00:00:06,000 --> 00:00:12,074\\r\\nSuppo...   \n",
       "3  ï»¿1\\r\\n00:00:11,645 --> 00:00:13,947\\r\\n(bird...   \n",
       "4  ï»¿1\\r\\n00:00:06,000 --> 00:00:12,074\\r\\nSuppo...   \n",
       "\n",
       "                                       clean_content  \n",
       "0  support u become vip member remove ad wwwopens...  \n",
       "1  use free code joinnow wwwplayshipseu televisio...  \n",
       "2  support u become vip member remove ad wwwopens...  \n",
       "3  bird singing exhaling soft moaning scoff softl...  \n",
       "4  support u become vip member remove ad wwwopens...  "
      ]
     },
     "execution_count": 20,
     "metadata": {},
     "output_type": "execute_result"
    }
   ],
   "source": [
    "df.head()"
   ]
  },
  {
   "cell_type": "code",
   "execution_count": 30,
   "id": "3af2f521",
   "metadata": {},
   "outputs": [],
   "source": [
    "def document_chunker(document, chunk_size=1000, overlap_size=200):\n",
    "    tokens = word_tokenize(document)  # Tokenize the document\n",
    "    num_tokens = len(tokens)\n",
    "    chunks = []\n",
    "\n",
    "    # Iterate over the tokens and create chunks with specified overlap\n",
    "    for start in range(0, num_tokens, chunk_size - overlap_size):\n",
    "        end = min(start + chunk_size, num_tokens)\n",
    "        chunk = tokens[start:end]\n",
    "        chunks.append({'name': row['name'], 'chunk_index': len(chunks) + 1, 'chunk_text': ' '.join(chunk)})\n",
    "\n",
    "    return chunks"
   ]
  },
  {
   "cell_type": "code",
   "execution_count": 31,
   "id": "3ea2eb2f",
   "metadata": {},
   "outputs": [],
   "source": [
    "chunks = []\n",
    "for index, row in df.iterrows():\n",
    "    document = row['clean_content']\n",
    "    document_chunks = document_chunker(document)\n",
    "    chunks.extend(document_chunks)"
   ]
  },
  {
   "cell_type": "code",
   "execution_count": 32,
   "id": "3ce520ca",
   "metadata": {},
   "outputs": [],
   "source": [
    "chunks = pd.DataFrame(chunks)"
   ]
  },
  {
   "cell_type": "code",
   "execution_count": 33,
   "id": "4ae9801e",
   "metadata": {},
   "outputs": [
    {
     "data": {
      "text/plain": [
       "(93103, 3)"
      ]
     },
     "execution_count": 33,
     "metadata": {},
     "output_type": "execute_result"
    }
   ],
   "source": [
    "chunks.shape"
   ]
  },
  {
   "cell_type": "code",
   "execution_count": null,
   "id": "37f21ce6",
   "metadata": {},
   "outputs": [],
   "source": []
  },
  {
   "cell_type": "code",
   "execution_count": null,
   "id": "ecdfb180",
   "metadata": {},
   "outputs": [],
   "source": []
  },
  {
   "cell_type": "code",
   "execution_count": null,
   "id": "1c120b5b",
   "metadata": {},
   "outputs": [],
   "source": []
  },
  {
   "cell_type": "code",
   "execution_count": null,
   "id": "d5560eb9",
   "metadata": {},
   "outputs": [],
   "source": []
  }
 ],
 "metadata": {
  "kernelspec": {
   "display_name": "Python 3 (ipykernel)",
   "language": "python",
   "name": "python3"
  },
  "language_info": {
   "codemirror_mode": {
    "name": "ipython",
    "version": 3
   },
   "file_extension": ".py",
   "mimetype": "text/x-python",
   "name": "python",
   "nbconvert_exporter": "python",
   "pygments_lexer": "ipython3",
   "version": "3.11.5"
  }
 },
 "nbformat": 4,
 "nbformat_minor": 5
}
